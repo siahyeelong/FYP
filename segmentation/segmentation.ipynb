{
 "cells": [
  {
   "cell_type": "markdown",
   "metadata": {},
   "source": [
    "# Introduction\n",
    "This notebook experiments with the different techniques to segment an image. Since the images that I will be using will mostly have a uniform background, I am trying to find the best technique that gives the best results with the best performance"
   ]
  },
  {
   "cell_type": "code",
   "execution_count": 1,
   "metadata": {},
   "outputs": [],
   "source": [
    "import cv2\n",
    "import numpy as np"
   ]
  },
  {
   "cell_type": "code",
   "execution_count": 2,
   "metadata": {},
   "outputs": [],
   "source": [
    "inputImage = './images/image.png'"
   ]
  },
  {
   "cell_type": "markdown",
   "metadata": {},
   "source": [
    "# Method 1: Otsu's Method (global thresholding)"
   ]
  },
  {
   "cell_type": "code",
   "execution_count": 3,
   "metadata": {},
   "outputs": [],
   "source": [
    "def remove_background_1(image_path):\n",
    "    # Load the image\n",
    "    image = cv2.imread(image_path)\n",
    "    \n",
    "    # Convert to grayscale\n",
    "    gray = cv2.cvtColor(image, cv2.COLOR_BGR2GRAY)\n",
    "    \n",
    "    # Use Otsu's thresholding to create a mask\n",
    "    _, mask = cv2.threshold(gray, 0, 255, cv2.THRESH_BINARY + cv2.THRESH_OTSU)\n",
    "    \n",
    "    # Refine the mask using morphology\n",
    "    kernel = np.ones((5,5), np.uint8)\n",
    "    mask = cv2.morphologyEx(mask, cv2.MORPH_CLOSE, kernel, iterations=2)\n",
    "    \n",
    "    # Create a 3-channel mask\n",
    "    mask_inv = cv2.bitwise_not(mask)\n",
    "    \n",
    "    # Extract the foreground object\n",
    "    foreground = cv2.bitwise_and(image, image, mask=mask)\n",
    "    \n",
    "    # Convert to transparent background (RGBA)\n",
    "    b, g, r = cv2.split(foreground)\n",
    "    alpha = mask  # Use the mask as the alpha channel\n",
    "    result = cv2.merge([b, g, r, alpha])\n",
    "\n",
    "    # Save the result\n",
    "    cv2.imwrite('./images/output1_otsu.png', result)"
   ]
  },
  {
   "cell_type": "code",
   "execution_count": 4,
   "metadata": {},
   "outputs": [],
   "source": [
    "remove_background_1(inputImage)"
   ]
  },
  {
   "cell_type": "markdown",
   "metadata": {},
   "source": [
    "# Method 2: Pre-trained background removal using rembg"
   ]
  },
  {
   "cell_type": "code",
   "execution_count": 5,
   "metadata": {},
   "outputs": [],
   "source": [
    "from rembg import remove\n",
    "from PIL import Image\n",
    "\n",
    "def remove_background_2(image_path):\n",
    "    input_image = Image.open(image_path)\n",
    "    output_image = remove(input_image)\n",
    "    output_image.save(\"./images/output2_rembg.png\")\n"
   ]
  },
  {
   "cell_type": "code",
   "execution_count": 6,
   "metadata": {},
   "outputs": [],
   "source": [
    "remove_background_2(inputImage)"
   ]
  },
  {
   "cell_type": "markdown",
   "metadata": {},
   "source": [
    "# Method 3: Canny edge detection"
   ]
  },
  {
   "cell_type": "code",
   "execution_count": 7,
   "metadata": {},
   "outputs": [],
   "source": [
    "def remove_background_3(image_path):\n",
    "    edges = cv2.Canny(cv2.imread(image_path), 100, 200)\n",
    "    cv2.imwrite('./images/output3_cannyedge.png', edges)"
   ]
  },
  {
   "cell_type": "code",
   "execution_count": 8,
   "metadata": {},
   "outputs": [],
   "source": [
    "remove_background_3(inputImage)"
   ]
  },
  {
   "cell_type": "markdown",
   "metadata": {},
   "source": [
    "# Method 4: K-means clustering"
   ]
  },
  {
   "cell_type": "code",
   "execution_count": 9,
   "metadata": {},
   "outputs": [],
   "source": [
    "from sklearn.cluster import KMeans\n",
    "\n",
    "def remove_background_4(image_path, n_clusters=2):\n",
    "    image = cv2.imread(image_path)\n",
    "    pixels = image.reshape((-1, 3))\n",
    "\n",
    "    kmeans = KMeans(n_clusters=n_clusters, random_state=42).fit(pixels)\n",
    "    segmented = kmeans.cluster_centers_[kmeans.labels_].reshape(image.shape).astype(np.uint8)\n",
    "    cv2.imwrite('./images/output4_kmeans.png', segmented)\n"
   ]
  },
  {
   "cell_type": "code",
   "execution_count": 10,
   "metadata": {},
   "outputs": [],
   "source": [
    "remove_background_4(inputImage)"
   ]
  }
 ],
 "metadata": {
  "kernelspec": {
   "display_name": "venv",
   "language": "python",
   "name": "python3"
  },
  "language_info": {
   "codemirror_mode": {
    "name": "ipython",
    "version": 3
   },
   "file_extension": ".py",
   "mimetype": "text/x-python",
   "name": "python",
   "nbconvert_exporter": "python",
   "pygments_lexer": "ipython3",
   "version": "3.9.10"
  }
 },
 "nbformat": 4,
 "nbformat_minor": 2
}
